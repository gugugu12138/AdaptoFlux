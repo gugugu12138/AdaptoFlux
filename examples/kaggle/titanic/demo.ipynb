{
  "cells": [
    {
      "cell_type": "markdown",
      "metadata": {},
      "source": [
        "# 🚀 自研动态图学习框架 AdaptoFlux：在 Titanic 上实现全自动建模\n",
        "\n",
        "欢迎使用 **AdaptoFlux** —— 一种基于函数图自动生长的可解释机器学习框架。\n",
        "\n",
        "本 Notebook 演示如何：\n",
        "- 加载预处理数据\n",
        "- 训练动态函数图模型\n",
        "- 保存图结构为 JSON\n",
        "- 可视化图结构（交互式）\n",
        "- 生成 Kaggle 提交文件\n",
        "\n",
        "👉 所有代码开源，欢迎 Star & Fork！"
      ]
    },
    {
      "cell_type": "code",
      "execution_count": null,
      "metadata": {},
      "outputs": [],
      "source": [
        "import pandas as pd\n",
        "import numpy as np\n",
        "import json\n",
        "import traceback\n",
        "from ATF.core.flux import AdaptoFlux\n",
        "from ATF.CollapseManager.collapse_functions import CollapseMethod\n",
        "from ATF.ModelTrainer.LayerGrowTrainer.layer_grow_trainer import LayerGrowTrainer\n",
        "\n",
        "import logging\n",
        "\n",
        "logging.basicConfig(\n",
        "    level=logging.INFO,\n",
        "    format='[%(levelname)s] %(name)s: %(message)s'\n",
        ")"
      ]
    },
    {
      "cell_type": "markdown",
      "metadata": {},
      "source": [
        "## 🧩 自定义函数库（methods.py）\n",
        "\n",
        "确保 `methods.py` 已定义基础函数（如 `add_values`, `multiply_values` 等），并用 `@method_profile` 装饰。"
      ]
    },
    {
      "cell_type": "markdown",
      "metadata": {},
      "source": [
        "## 🗃️ 加载 Titanic 预处理数据"
      ]
    },
    {
      "cell_type": "code",
      "execution_count": null,
      "metadata": {},
      "outputs": [],
      "source": [
        "def load_titanic_for_adaptoflux(train_processed_path, methods_path=None, collapse_method=CollapseMethod.SUM):\n",
        "    df = pd.read_csv(train_processed_path)\n",
        "    if 'Survived' not in df.columns:\n",
        "        raise ValueError(\"train_processed.csv 必须包含 'Survived' 列\")\n",
        "    labels = df['Survived'].values\n",
        "    values = df.drop(columns=['Survived']).values\n",
        "    values = np.array(values, dtype=np.float64)\n",
        "    return AdaptoFlux(\n",
        "        values=values,\n",
        "        labels=labels,\n",
        "        methods_path=methods_path,\n",
        "        collapse_method=collapse_method\n",
        "    )\n",
        "\n",
        "# 加载模型\n",
        "model = load_titanic_for_adaptoflux(\n",
        "    train_processed_path='examples/kaggle/titanic/output/train_processed.csv',\n",
        "    methods_path='examples/kaggle/titanic/methods.py',\n",
        "    collapse_method=CollapseMethod.SUM\n",
        ")\n",
        "\n",
        "print(f\"✅ 加载数据完成：{model.values.shape[0]} 个样本，{model.values.shape[1]} 个特征\")"
      ]
    },
    {
      "cell_type": "markdown",
      "metadata": {},
      "source": [
        "## 🌱 添加自定义坍缩函数"
      ]
    },
    {
      "cell_type": "code",
      "execution_count": null,
      "metadata": {},
      "outputs": [],
      "source": [
        "def collapse_sum_positive(values):\n",
        "    total = np.sum(values)\n",
        "    return 1 if total > 0 else 0\n",
        "\n",
        "model.add_collapse_method(collapse_sum_positive)"
      ]
    },
    {
      "cell_type": "markdown",
      "metadata": {},
      "source": [
        "## 🏗️ 模型训练（逐层生长）"
      ]
    },
    {
      "cell_type": "code",
      "execution_count": null,
      "metadata": {},
      "outputs": [],
      "source": [
        "trainer = LayerGrowTrainer(\n",
        "    adaptoflux_instance=model,\n",
        "    max_attempts=10,\n",
        "    decision_threshold=0.0,\n",
        "    verbose=True\n",
        ")\n",
        "\n",
        "trainer.train(\n",
        "    input_data=model.values,\n",
        "    target=model.labels,\n",
        "    max_layers=15,\n",
        "    save_model=True,\n",
        "    on_retry_exhausted=\"rollback\",\n",
        "    rollback_layers=2,\n",
        "    max_total_attempts=2000\n",
        ")"
      ]
    },
    {
      "cell_type": "markdown",
      "metadata": {},
      "source": [
        "## 💾 保存图结构为 JSON"
      ]
    },
    {
      "cell_type": "code",
      "execution_count": null,
      "metadata": {},
      "outputs": [],
      "source": [
        "model.save_graph(\"titanic_graph.json\")\n",
        "print(\"✅ 图结构已保存为 titanic_graph.json\")"
      ]
    },
    {
      "cell_type": "markdown",
      "metadata": {},
      "source": [
        "## 🎨 可视化图结构（交互式）"
      ]
    },
    {
      "cell_type": "code",
      "execution_count": null,
      "metadata": {},
      "outputs": [],
      "source": [
        "!pip install pyvis -q"
      ]
    },
    {
      "cell_type": "code",
      "execution_count": null,
      "metadata": {},
      "outputs": [],
      "source": [
        "from pyvis.network import Network\n",
        "import json\n",
        "\n",
        "def visualize_graph_interactive(json_path, output_html=\"adaptoflux_graph.html\"):\n",
        "    net = Network(directed=True, height=\"800px\", width=\"100%\", bgcolor=\"#f9f9f9\", font_color=\"#222\")\n",
        "\n",
        "    with open(json_path, 'r') as f:\n",
        "        graph_data = json.load(f)\n",
        "\n",
        "    for node in graph_data['nodes']:\n",
        "        node_id = node['id']\n",
        "        label = node.get('name', f\"Node_{node_id}\")\n",
        "        title = f\"<b>ID:</b> {node_id}<br><b>Type:</b> {node['type']}\"><br><b>Func:</b> {label}\" if 'name' in node else str(node)\n",
        "\n",
        "        if node['type'] == 'input':\n",
        "            color = 'lightgreen'\n",
        "            shape = 'dot'\n",
        "        elif node['type'] == 'function':\n",
        "            color = 'lightblue'\n",
        "            shape = 'square'\n",
        "        elif 'collapse' in label.lower() or node['type'] == 'output':\n",
        "            color = 'salmon'\n",
        "            shape = 'diamond'\n",
        "        else:\n",
        "            color = 'gray'\n",
        "            shape = 'dot'\n",
        "\n",
        "        net.add_node(node_id, label=label, color=color, shape=shape, title=title)\n",
        "\n",
        "        if 'inputs' in node:\n",
        "            for inp in node['inputs']:\n",
        "                if isinstance(inp, dict) and 'source' in inp:\n",
        "                    src_id = inp['source']\n",
        "                    net.add_edge(src_id, node_id)\n",
        "                elif isinstance(inp, int):\n",
        "                    net.add_edge(inp, node_id)\n",
        "\n",
        "    net.set_options('''\n",
        "    var options = {\n",
        "      \"physics\": {\n",
        "        \"enabled\": true,\n",
        "        \"repulsion\": { \"nodeDistance\": 120, \"springLength\": 100 }\n",
        "      },\n",
        "      \"interaction\": { \"hover\": true, \"tooltip\": true }\n",
        "    }\n",
        "    ''')\n",
        "\n",
        "    net.show(output_html)\n",
        "    return net\n",
        "\n",
        "# 生成可视化\n",
        "viz = visualize_graph_interactive(\"titanic_graph.json\", \"adaptoflux_titanic.html\")\n",
        "print(\"✅ 交互式图已生成：adaptoflux_titanic.html\")\n",
        "viz  # 在 notebook 中显示"
      ]
    },
    {
      "cell_type": "markdown",
      "metadata": {},
      "source": [
        "## 📊 模型评估"
      ]
    },
    {
      "cell_type": "code",
      "execution_count": null,
      "metadata": {},
      "outputs": [],
      "source": [
        "def _evaluate_accuracy(output: np.ndarray, target: np.ndarray) -> float:\n",
        "    try:\n",
        "        if len(output.shape) == 1 or output.shape[1] == 1:\n",
        "            pred_classes = (output >= 0.5).astype(int).flatten()\n",
        "        else:\n",
        "            pred_classes = np.argmax(output, axis=1)\n",
        "        true_labels = np.array(target).flatten()\n",
        "        return np.mean(pred_classes == true_labels)\n",
        "    except Exception as e:\n",
        "        print(f\"评估失败: {e}\")\n",
        "        return 0.0\n",
        "\n",
        "pred = model.infer_with_graph(model.values)\n",
        "acc = _evaluate_accuracy(pred, model.labels)\n",
        "print(f\"🎯 最终准确率: {acc:.4f}\")"
      ]
    },
    {
      "cell_type": "markdown",
      "metadata": {},
      "source": [
        "## 📤 生成 Kaggle 提交文件"
      ]
    },
    {
      "cell_type": "code",
      "execution_count": null,
      "metadata": {},
      "outputs": [],
      "source": [
        "passenger_ids = range(892, 892 + len(pred))\n",
        "submission = pd.DataFrame({\n",
        "    'PassengerId': passenger_ids,\n",
        "    'Survived': (pred >= 0.5).astype(int).flatten()\n",
        "})\n",
        "submission.to_csv('submission.csv', index=False)\n",
        "print(\"✅ 提交文件已生成：submission.csv\")\n",
        "display(submission.head())"
      ]
    },
    {
      "cell_type": "markdown",
      "metadata": {},
      "source": [
        "## 🙏 致谢\n",
        "\n",
        "感谢 Kaggle 提供 Titanic 数据集。\n",
        "\n",
        "如果你喜欢这个项目，请：\n",
        "- ⭐ Star 仓库\n",
        "- 🔄 提交 PR 添加新函数\n",
        "- 💬 在评论区分享你的想法！\n",
        "\n",
        "我们一起打造更透明、更可控的 AI 未来。"
      ]
    }
  ],
  "metadata": {
    "kernelspec": {
      "display_name": "Python 3",
      "language": "python",
      "name": "python3"
    },
    "language_info": {
      "codemirror_mode": {
        "name": "ipython",
        "version": 3
      },
      "file_extension": ".py",
      "mimetype": "text/x-python",
      "name": "python",
      "nbconvert_exporter": "python",
      "pygments_lexer": "ipython3",
      "version": "3.12.9"
    },
    "orig_nbformat": 4
  },
  "nbformat": 4,
  "nbformat_minor": 2
}
